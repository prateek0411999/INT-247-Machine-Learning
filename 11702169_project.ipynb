{
 "cells": [
  {
   "cell_type": "code",
   "execution_count": 59,
   "metadata": {},
   "outputs": [],
   "source": [
    "#IMPORTING THE LIBRARIES\n",
    "import pandas as pd\n",
    "import numpy as np\n",
    "import matplotlib.pyplot as plt\n",
    "#%matplotlib\n",
    "from sklearn.cluster import KMeans\n",
    "import seaborn as sns \n",
    "\n"
   ]
  },
  {
   "cell_type": "code",
   "execution_count": 60,
   "metadata": {},
   "outputs": [],
   "source": [
    "#IMPORTING THE DATASET\n",
    "df=pd.read_csv(\"final_dataset.csv\")"
   ]
  },
  {
   "cell_type": "code",
   "execution_count": 61,
   "metadata": {
    "scrolled": true
   },
   "outputs": [
    {
     "data": {
      "text/html": [
       "<div>\n",
       "<style scoped>\n",
       "    .dataframe tbody tr th:only-of-type {\n",
       "        vertical-align: middle;\n",
       "    }\n",
       "\n",
       "    .dataframe tbody tr th {\n",
       "        vertical-align: top;\n",
       "    }\n",
       "\n",
       "    .dataframe thead th {\n",
       "        text-align: right;\n",
       "    }\n",
       "</style>\n",
       "<table border=\"1\" class=\"dataframe\">\n",
       "  <thead>\n",
       "    <tr style=\"text-align: right;\">\n",
       "      <th></th>\n",
       "      <th>Termid</th>\n",
       "      <th>Regd No</th>\n",
       "      <th>Course</th>\n",
       "      <th>Grade</th>\n",
       "      <th>CA_100</th>\n",
       "      <th>MTT_50</th>\n",
       "      <th>ETT_100</th>\n",
       "      <th>ETP_100</th>\n",
       "      <th>Course_Att</th>\n",
       "      <th>MHRDName</th>\n",
       "      <th>...</th>\n",
       "      <th>CA_3</th>\n",
       "      <th>CA_4</th>\n",
       "      <th>Height</th>\n",
       "      <th>Weight</th>\n",
       "      <th>ScholarType</th>\n",
       "      <th>Direction</th>\n",
       "      <th>Gender</th>\n",
       "      <th>Medium</th>\n",
       "      <th>CourseType</th>\n",
       "      <th>ProgramType</th>\n",
       "    </tr>\n",
       "  </thead>\n",
       "  <tbody>\n",
       "    <tr>\n",
       "      <th>0</th>\n",
       "      <td>318192</td>\n",
       "      <td>1101776</td>\n",
       "      <td>KVY1</td>\n",
       "      <td>O</td>\n",
       "      <td>87.0</td>\n",
       "      <td>39.0</td>\n",
       "      <td>82.0</td>\n",
       "      <td>89.0</td>\n",
       "      <td>88.0</td>\n",
       "      <td>Bachelor of Science (Honours) (Agriculture)</td>\n",
       "      <td>...</td>\n",
       "      <td>1.0</td>\n",
       "      <td>0.0</td>\n",
       "      <td>181</td>\n",
       "      <td>65</td>\n",
       "      <td>Hostler</td>\n",
       "      <td>North</td>\n",
       "      <td>Female</td>\n",
       "      <td>Hindi</td>\n",
       "      <td>Theory</td>\n",
       "      <td>UG</td>\n",
       "    </tr>\n",
       "    <tr>\n",
       "      <th>1</th>\n",
       "      <td>318192</td>\n",
       "      <td>1101776</td>\n",
       "      <td>KVY147</td>\n",
       "      <td>A+</td>\n",
       "      <td>87.0</td>\n",
       "      <td>47.0</td>\n",
       "      <td>65.0</td>\n",
       "      <td>85.0</td>\n",
       "      <td>82.0</td>\n",
       "      <td>Bachelor of Science (Honours) (Agriculture)</td>\n",
       "      <td>...</td>\n",
       "      <td>0.0</td>\n",
       "      <td>1.0</td>\n",
       "      <td>181</td>\n",
       "      <td>65</td>\n",
       "      <td>Hostler</td>\n",
       "      <td>North</td>\n",
       "      <td>Female</td>\n",
       "      <td>Hindi</td>\n",
       "      <td>Theory</td>\n",
       "      <td>UG</td>\n",
       "    </tr>\n",
       "    <tr>\n",
       "      <th>2</th>\n",
       "      <td>318192</td>\n",
       "      <td>1101776</td>\n",
       "      <td>KVY148</td>\n",
       "      <td>B+</td>\n",
       "      <td>84.0</td>\n",
       "      <td>29.0</td>\n",
       "      <td>63.0</td>\n",
       "      <td>77.0</td>\n",
       "      <td>76.0</td>\n",
       "      <td>Bachelor of Science (Honours) (Agriculture)</td>\n",
       "      <td>...</td>\n",
       "      <td>3.0</td>\n",
       "      <td>5.0</td>\n",
       "      <td>181</td>\n",
       "      <td>65</td>\n",
       "      <td>Hostler</td>\n",
       "      <td>North</td>\n",
       "      <td>Female</td>\n",
       "      <td>Hindi</td>\n",
       "      <td>Theory</td>\n",
       "      <td>UG</td>\n",
       "    </tr>\n",
       "    <tr>\n",
       "      <th>3</th>\n",
       "      <td>318192</td>\n",
       "      <td>1101776</td>\n",
       "      <td>KVY2</td>\n",
       "      <td>A+</td>\n",
       "      <td>NaN</td>\n",
       "      <td>NaN</td>\n",
       "      <td>NaN</td>\n",
       "      <td>82.0</td>\n",
       "      <td>74.0</td>\n",
       "      <td>Bachelor of Science (Honours) (Agriculture)</td>\n",
       "      <td>...</td>\n",
       "      <td>NaN</td>\n",
       "      <td>NaN</td>\n",
       "      <td>181</td>\n",
       "      <td>65</td>\n",
       "      <td>Hostler</td>\n",
       "      <td>North</td>\n",
       "      <td>Female</td>\n",
       "      <td>Hindi</td>\n",
       "      <td>Practical</td>\n",
       "      <td>UG</td>\n",
       "    </tr>\n",
       "    <tr>\n",
       "      <th>4</th>\n",
       "      <td>318192</td>\n",
       "      <td>1101776</td>\n",
       "      <td>KVY3</td>\n",
       "      <td>A+</td>\n",
       "      <td>87.0</td>\n",
       "      <td>34.0</td>\n",
       "      <td>68.0</td>\n",
       "      <td>89.0</td>\n",
       "      <td>76.0</td>\n",
       "      <td>Bachelor of Science (Honours) (Agriculture)</td>\n",
       "      <td>...</td>\n",
       "      <td>2.0</td>\n",
       "      <td>17.0</td>\n",
       "      <td>181</td>\n",
       "      <td>65</td>\n",
       "      <td>Hostler</td>\n",
       "      <td>North</td>\n",
       "      <td>Female</td>\n",
       "      <td>Hindi</td>\n",
       "      <td>Theory</td>\n",
       "      <td>UG</td>\n",
       "    </tr>\n",
       "  </tbody>\n",
       "</table>\n",
       "<p>5 rows × 22 columns</p>\n",
       "</div>"
      ],
      "text/plain": [
       "   Termid  Regd No  Course Grade  CA_100  MTT_50  ETT_100  ETP_100  \\\n",
       "0  318192  1101776    KVY1     O    87.0    39.0     82.0     89.0   \n",
       "1  318192  1101776  KVY147    A+    87.0    47.0     65.0     85.0   \n",
       "2  318192  1101776  KVY148    B+    84.0    29.0     63.0     77.0   \n",
       "3  318192  1101776    KVY2    A+     NaN     NaN      NaN     82.0   \n",
       "4  318192  1101776    KVY3    A+    87.0    34.0     68.0     89.0   \n",
       "\n",
       "   Course_Att                                     MHRDName  ...  CA_3  CA_4  \\\n",
       "0        88.0  Bachelor of Science (Honours) (Agriculture)  ...   1.0   0.0   \n",
       "1        82.0  Bachelor of Science (Honours) (Agriculture)  ...   0.0   1.0   \n",
       "2        76.0  Bachelor of Science (Honours) (Agriculture)  ...   3.0   5.0   \n",
       "3        74.0  Bachelor of Science (Honours) (Agriculture)  ...   NaN   NaN   \n",
       "4        76.0  Bachelor of Science (Honours) (Agriculture)  ...   2.0  17.0   \n",
       "\n",
       "   Height  Weight  ScholarType  Direction  Gender Medium CourseType  \\\n",
       "0     181      65      Hostler      North  Female  Hindi     Theory   \n",
       "1     181      65      Hostler      North  Female  Hindi     Theory   \n",
       "2     181      65      Hostler      North  Female  Hindi     Theory   \n",
       "3     181      65      Hostler      North  Female  Hindi  Practical   \n",
       "4     181      65      Hostler      North  Female  Hindi     Theory   \n",
       "\n",
       "  ProgramType  \n",
       "0          UG  \n",
       "1          UG  \n",
       "2          UG  \n",
       "3          UG  \n",
       "4          UG  \n",
       "\n",
       "[5 rows x 22 columns]"
      ]
     },
     "execution_count": 61,
     "metadata": {},
     "output_type": "execute_result"
    }
   ],
   "source": [
    "df.head(5)\n",
    "#df.Medium.value_counts()"
   ]
  },
  {
   "cell_type": "code",
   "execution_count": 62,
   "metadata": {},
   "outputs": [
    {
     "data": {
      "text/plain": [
       "Bachelor of Science (Honours) (Agriculture)                                                     7707\n",
       "Bachelor of Technology in Computer Science and Engineering (Big Data)                           5493\n",
       "Bachelor of Technology (Computer Science and Engineering)                                       4900\n",
       "Bachelor of Technology in Computer Science and Engineering (Android Application Development)    4324\n",
       "Bachelor of Technology in Electronics and Communication Engineering (Internet of Things)        3917\n",
       "Name: MHRDName, dtype: int64"
      ]
     },
     "execution_count": 62,
     "metadata": {},
     "output_type": "execute_result"
    }
   ],
   "source": [
    "df[\"MHRDName\"].value_counts().head()"
   ]
  },
  {
   "cell_type": "markdown",
   "metadata": {},
   "source": [
    "## SELECTING DATA FROM DATASET"
   ]
  },
  {
   "cell_type": "code",
   "execution_count": 63,
   "metadata": {},
   "outputs": [
    {
     "name": "stdout",
     "output_type": "stream",
     "text": [
      "Rows of MHRDName = Integrated Bachelor of Technology - Master of Technology (Civil Engineering): 56\n"
     ]
    }
   ],
   "source": [
    "###Only rows are selected where MHRDName == Integrated Bachelor of Technology - Master of Technology (Civil Engineering)\n",
    "\n",
    "\n",
    "df = df[df['MHRDName'] == 'Integrated Bachelor of Technology - Master of Technology (Civil Engineering)']\n",
    "print(\"Rows of MHRDName = Integrated Bachelor of Technology - Master of Technology (Civil Engineering):\",df.shape[0])\n",
    "df = df.drop('MHRDName',axis=1)"
   ]
  },
  {
   "cell_type": "code",
   "execution_count": 64,
   "metadata": {},
   "outputs": [
    {
     "data": {
      "text/plain": [
       "(56, 21)"
      ]
     },
     "execution_count": 64,
     "metadata": {},
     "output_type": "execute_result"
    }
   ],
   "source": [
    "df.shape"
   ]
  },
  {
   "cell_type": "markdown",
   "metadata": {},
   "source": [
    "\n",
    "\n",
    "\n",
    "## __Handling the missing values__"
   ]
  },
  {
   "cell_type": "code",
   "execution_count": 65,
   "metadata": {},
   "outputs": [],
   "source": [
    "df[\"CA_100\"].fillna(value=0,axis=0,inplace=True)\n"
   ]
  },
  {
   "cell_type": "code",
   "execution_count": 66,
   "metadata": {},
   "outputs": [],
   "source": [
    "df[\"MTT_50\"].fillna(value=0,axis=0,inplace=True)\n",
    "\n"
   ]
  },
  {
   "cell_type": "code",
   "execution_count": 67,
   "metadata": {},
   "outputs": [],
   "source": [
    "df[\"ETT_100\"].fillna(value=0,axis=0,inplace=True)\n",
    "\n"
   ]
  },
  {
   "cell_type": "code",
   "execution_count": 68,
   "metadata": {},
   "outputs": [],
   "source": [
    "df[\"ETP_100\"].fillna(value=0,axis=0,inplace=True)\n",
    "\n"
   ]
  },
  {
   "cell_type": "code",
   "execution_count": 69,
   "metadata": {},
   "outputs": [],
   "source": [
    "df[\"Course_Att\"].fillna(value=0,axis=0,inplace=True)\n",
    "\n"
   ]
  },
  {
   "cell_type": "code",
   "execution_count": 70,
   "metadata": {},
   "outputs": [
    {
     "data": {
      "text/plain": [
       "Termid         0\n",
       "Regd No        0\n",
       "Course         0\n",
       "Grade          0\n",
       "CA_100         0\n",
       "MTT_50         0\n",
       "ETT_100        0\n",
       "ETP_100        0\n",
       "Course_Att     0\n",
       "CA_1           0\n",
       "CA_2           0\n",
       "CA_3           0\n",
       "CA_4           0\n",
       "Height         0\n",
       "Weight         0\n",
       "ScholarType    0\n",
       "Direction      0\n",
       "Gender         0\n",
       "Medium         0\n",
       "CourseType     0\n",
       "ProgramType    0\n",
       "dtype: int64"
      ]
     },
     "execution_count": 70,
     "metadata": {},
     "output_type": "execute_result"
    }
   ],
   "source": [
    "df.isnull().sum()"
   ]
  },
  {
   "cell_type": "code",
   "execution_count": 71,
   "metadata": {},
   "outputs": [],
   "source": [
    "df[\"CA_1\"].fillna(value=0,axis=0,inplace=True)"
   ]
  },
  {
   "cell_type": "code",
   "execution_count": 72,
   "metadata": {},
   "outputs": [],
   "source": [
    "\n",
    "df[\"CA_2\"].fillna(value=0,axis=0,inplace=True)"
   ]
  },
  {
   "cell_type": "code",
   "execution_count": 73,
   "metadata": {},
   "outputs": [],
   "source": [
    "df[\"CA_3\"].fillna(value=0,axis=0,inplace=True)"
   ]
  },
  {
   "cell_type": "code",
   "execution_count": 74,
   "metadata": {},
   "outputs": [],
   "source": [
    "df[\"CA_4\"].fillna(value=0,axis=0,inplace=True)"
   ]
  },
  {
   "cell_type": "code",
   "execution_count": 75,
   "metadata": {},
   "outputs": [
    {
     "data": {
      "text/plain": [
       "Termid         0\n",
       "Regd No        0\n",
       "Course         0\n",
       "Grade          0\n",
       "CA_100         0\n",
       "MTT_50         0\n",
       "ETT_100        0\n",
       "ETP_100        0\n",
       "Course_Att     0\n",
       "CA_1           0\n",
       "CA_2           0\n",
       "CA_3           0\n",
       "CA_4           0\n",
       "Height         0\n",
       "Weight         0\n",
       "ScholarType    0\n",
       "Direction      0\n",
       "Gender         0\n",
       "Medium         0\n",
       "CourseType     0\n",
       "ProgramType    0\n",
       "dtype: int64"
      ]
     },
     "execution_count": 75,
     "metadata": {},
     "output_type": "execute_result"
    }
   ],
   "source": [
    "df.isnull().sum()"
   ]
  },
  {
   "cell_type": "markdown",
   "metadata": {},
   "source": []
  },
  {
   "cell_type": "code",
   "execution_count": 76,
   "metadata": {},
   "outputs": [],
   "source": [
    "#Course        \n",
    "#Grade"
   ]
  },
  {
   "cell_type": "code",
   "execution_count": 77,
   "metadata": {},
   "outputs": [
    {
     "data": {
      "text/plain": [
       "A     19\n",
       "B+    13\n",
       "A+    12\n",
       "O      3\n",
       "B      3\n",
       "C      2\n",
       "Name: Grade, dtype: int64"
      ]
     },
     "execution_count": 77,
     "metadata": {},
     "output_type": "execute_result"
    }
   ],
   "source": [
    "df['Grade'].value_counts().head(6)"
   ]
  },
  {
   "cell_type": "code",
   "execution_count": 78,
   "metadata": {},
   "outputs": [
    {
     "data": {
      "text/plain": [
       "KYI12      10\n",
       "KYI1700     4\n",
       "KYI2146     3\n",
       "KYI1703     3\n",
       "KYI1704     3\n",
       "Name: Course, dtype: int64"
      ]
     },
     "execution_count": 78,
     "metadata": {},
     "output_type": "execute_result"
    }
   ],
   "source": [
    "df['Course'].value_counts().head(5)"
   ]
  },
  {
   "cell_type": "code",
   "execution_count": 79,
   "metadata": {},
   "outputs": [
    {
     "data": {
      "text/plain": [
       "17       A\n",
       "821     B+\n",
       "3375     A\n",
       "4544    A+\n",
       "4545    B+\n",
       "4546     A\n",
       "4547     A\n",
       "4548    B+\n",
       "Name: Grade, dtype: object"
      ]
     },
     "execution_count": 79,
     "metadata": {},
     "output_type": "execute_result"
    }
   ],
   "source": [
    "df[\"Grade\"].head(8)"
   ]
  },
  {
   "cell_type": "code",
   "execution_count": 80,
   "metadata": {},
   "outputs": [
    {
     "data": {
      "text/plain": [
       "17        KYI12\n",
       "821       KYI12\n",
       "3375      KYI12\n",
       "4544    KYI1129\n",
       "4545    KYI1130\n",
       "4546    KYI1700\n",
       "4547    KYI1822\n",
       "4548    KYI1823\n",
       "Name: Course, dtype: object"
      ]
     },
     "execution_count": 80,
     "metadata": {},
     "output_type": "execute_result"
    }
   ],
   "source": [
    "df[\"Course\"].head(8)"
   ]
  },
  {
   "cell_type": "markdown",
   "metadata": {},
   "source": [
    "## Label Encoder to convert values into numerical values"
   ]
  },
  {
   "cell_type": "code",
   "execution_count": 81,
   "metadata": {},
   "outputs": [],
   "source": [
    "#importing LabelEncoder\n",
    "from sklearn.preprocessing import LabelEncoder"
   ]
  },
  {
   "cell_type": "code",
   "execution_count": 82,
   "metadata": {},
   "outputs": [],
   "source": [
    "#creating an object of LabelEncoder\n",
    "ss=LabelEncoder()"
   ]
  },
  {
   "cell_type": "code",
   "execution_count": 83,
   "metadata": {},
   "outputs": [],
   "source": [
    "#using the fit_transform method to convert \n",
    "df[\"Grade\"]=ss.fit_transform(df[\"Grade\"])\n",
    "#creating a variable as Gradelen which will contain the length of grade for different values of grade\n",
    "#this variable will be used in looping in Kmeans clustering\n",
    "Gradelen=len(df['Grade'].unique())"
   ]
  },
  {
   "cell_type": "code",
   "execution_count": 84,
   "metadata": {},
   "outputs": [
    {
     "data": {
      "text/plain": [
       "17      0\n",
       "821     3\n",
       "3375    0\n",
       "4544    1\n",
       "4545    3\n",
       "Name: Grade, dtype: int32"
      ]
     },
     "execution_count": 84,
     "metadata": {},
     "output_type": "execute_result"
    }
   ],
   "source": [
    "df.Grade.head(5)\n",
    "#checking the numeric values after conversion"
   ]
  },
  {
   "cell_type": "code",
   "execution_count": 85,
   "metadata": {},
   "outputs": [],
   "source": [
    "#converting course\n",
    "df[\"Course\"]=ss.fit_transform(df[\"Course\"])"
   ]
  },
  {
   "cell_type": "code",
   "execution_count": 86,
   "metadata": {},
   "outputs": [
    {
     "data": {
      "text/html": [
       "<div>\n",
       "<style scoped>\n",
       "    .dataframe tbody tr th:only-of-type {\n",
       "        vertical-align: middle;\n",
       "    }\n",
       "\n",
       "    .dataframe tbody tr th {\n",
       "        vertical-align: top;\n",
       "    }\n",
       "\n",
       "    .dataframe thead th {\n",
       "        text-align: right;\n",
       "    }\n",
       "</style>\n",
       "<table border=\"1\" class=\"dataframe\">\n",
       "  <thead>\n",
       "    <tr style=\"text-align: right;\">\n",
       "      <th></th>\n",
       "      <th>Course</th>\n",
       "    </tr>\n",
       "  </thead>\n",
       "  <tbody>\n",
       "    <tr>\n",
       "      <th>17</th>\n",
       "      <td>3</td>\n",
       "    </tr>\n",
       "    <tr>\n",
       "      <th>821</th>\n",
       "      <td>3</td>\n",
       "    </tr>\n",
       "    <tr>\n",
       "      <th>3375</th>\n",
       "      <td>3</td>\n",
       "    </tr>\n",
       "    <tr>\n",
       "      <th>4544</th>\n",
       "      <td>1</td>\n",
       "    </tr>\n",
       "    <tr>\n",
       "      <th>4545</th>\n",
       "      <td>2</td>\n",
       "    </tr>\n",
       "    <tr>\n",
       "      <th>4546</th>\n",
       "      <td>4</td>\n",
       "    </tr>\n",
       "    <tr>\n",
       "      <th>4547</th>\n",
       "      <td>9</td>\n",
       "    </tr>\n",
       "    <tr>\n",
       "      <th>4548</th>\n",
       "      <td>10</td>\n",
       "    </tr>\n",
       "  </tbody>\n",
       "</table>\n",
       "</div>"
      ],
      "text/plain": [
       "      Course\n",
       "17         3\n",
       "821        3\n",
       "3375       3\n",
       "4544       1\n",
       "4545       2\n",
       "4546       4\n",
       "4547       9\n",
       "4548      10"
      ]
     },
     "execution_count": 86,
     "metadata": {},
     "output_type": "execute_result"
    }
   ],
   "source": [
    "df[[\"Course\"]].head(8)"
   ]
  },
  {
   "cell_type": "code",
   "execution_count": 87,
   "metadata": {},
   "outputs": [
    {
     "data": {
      "text/html": [
       "<div>\n",
       "<style scoped>\n",
       "    .dataframe tbody tr th:only-of-type {\n",
       "        vertical-align: middle;\n",
       "    }\n",
       "\n",
       "    .dataframe tbody tr th {\n",
       "        vertical-align: top;\n",
       "    }\n",
       "\n",
       "    .dataframe thead th {\n",
       "        text-align: right;\n",
       "    }\n",
       "</style>\n",
       "<table border=\"1\" class=\"dataframe\">\n",
       "  <thead>\n",
       "    <tr style=\"text-align: right;\">\n",
       "      <th></th>\n",
       "      <th>Termid</th>\n",
       "      <th>Regd No</th>\n",
       "      <th>Course</th>\n",
       "      <th>Grade</th>\n",
       "      <th>CA_100</th>\n",
       "      <th>MTT_50</th>\n",
       "      <th>ETT_100</th>\n",
       "      <th>ETP_100</th>\n",
       "      <th>Course_Att</th>\n",
       "      <th>CA_1</th>\n",
       "      <th>...</th>\n",
       "      <th>CA_3</th>\n",
       "      <th>CA_4</th>\n",
       "      <th>Height</th>\n",
       "      <th>Weight</th>\n",
       "      <th>ScholarType</th>\n",
       "      <th>Direction</th>\n",
       "      <th>Gender</th>\n",
       "      <th>Medium</th>\n",
       "      <th>CourseType</th>\n",
       "      <th>ProgramType</th>\n",
       "    </tr>\n",
       "  </thead>\n",
       "  <tbody>\n",
       "    <tr>\n",
       "      <th>17</th>\n",
       "      <td>518192</td>\n",
       "      <td>1105776</td>\n",
       "      <td>3</td>\n",
       "      <td>0</td>\n",
       "      <td>89.0</td>\n",
       "      <td>0.0</td>\n",
       "      <td>0.0</td>\n",
       "      <td>64.0</td>\n",
       "      <td>0.0</td>\n",
       "      <td>62.0</td>\n",
       "      <td>...</td>\n",
       "      <td>4.0</td>\n",
       "      <td>18.0</td>\n",
       "      <td>155</td>\n",
       "      <td>75</td>\n",
       "      <td>Hostler</td>\n",
       "      <td>North</td>\n",
       "      <td>Female</td>\n",
       "      <td>Regional</td>\n",
       "      <td>Theory</td>\n",
       "      <td>UG</td>\n",
       "    </tr>\n",
       "    <tr>\n",
       "      <th>821</th>\n",
       "      <td>518192</td>\n",
       "      <td>1326776</td>\n",
       "      <td>3</td>\n",
       "      <td>3</td>\n",
       "      <td>71.0</td>\n",
       "      <td>0.0</td>\n",
       "      <td>0.0</td>\n",
       "      <td>72.0</td>\n",
       "      <td>0.0</td>\n",
       "      <td>54.0</td>\n",
       "      <td>...</td>\n",
       "      <td>3.0</td>\n",
       "      <td>0.0</td>\n",
       "      <td>170</td>\n",
       "      <td>65</td>\n",
       "      <td>Hostler</td>\n",
       "      <td>South</td>\n",
       "      <td>Female</td>\n",
       "      <td>Regional</td>\n",
       "      <td>Theory</td>\n",
       "      <td>UG</td>\n",
       "    </tr>\n",
       "    <tr>\n",
       "      <th>3375</th>\n",
       "      <td>518192</td>\n",
       "      <td>1945776</td>\n",
       "      <td>3</td>\n",
       "      <td>0</td>\n",
       "      <td>87.0</td>\n",
       "      <td>0.0</td>\n",
       "      <td>0.0</td>\n",
       "      <td>63.0</td>\n",
       "      <td>0.0</td>\n",
       "      <td>24.0</td>\n",
       "      <td>...</td>\n",
       "      <td>20.0</td>\n",
       "      <td>20.0</td>\n",
       "      <td>166</td>\n",
       "      <td>97</td>\n",
       "      <td>Hostler</td>\n",
       "      <td>South</td>\n",
       "      <td>Male</td>\n",
       "      <td>English</td>\n",
       "      <td>Theory</td>\n",
       "      <td>UG</td>\n",
       "    </tr>\n",
       "    <tr>\n",
       "      <th>4544</th>\n",
       "      <td>418192</td>\n",
       "      <td>2199776</td>\n",
       "      <td>1</td>\n",
       "      <td>1</td>\n",
       "      <td>88.0</td>\n",
       "      <td>43.0</td>\n",
       "      <td>72.0</td>\n",
       "      <td>0.0</td>\n",
       "      <td>84.0</td>\n",
       "      <td>58.0</td>\n",
       "      <td>...</td>\n",
       "      <td>1.0</td>\n",
       "      <td>13.0</td>\n",
       "      <td>162</td>\n",
       "      <td>45</td>\n",
       "      <td>Day Scholar</td>\n",
       "      <td>South</td>\n",
       "      <td>Female</td>\n",
       "      <td>English</td>\n",
       "      <td>Theory</td>\n",
       "      <td>UG</td>\n",
       "    </tr>\n",
       "  </tbody>\n",
       "</table>\n",
       "<p>4 rows × 21 columns</p>\n",
       "</div>"
      ],
      "text/plain": [
       "      Termid  Regd No  Course  Grade  CA_100  MTT_50  ETT_100  ETP_100  \\\n",
       "17    518192  1105776       3      0    89.0     0.0      0.0     64.0   \n",
       "821   518192  1326776       3      3    71.0     0.0      0.0     72.0   \n",
       "3375  518192  1945776       3      0    87.0     0.0      0.0     63.0   \n",
       "4544  418192  2199776       1      1    88.0    43.0     72.0      0.0   \n",
       "\n",
       "      Course_Att  CA_1  ...  CA_3  CA_4  Height  Weight  ScholarType  \\\n",
       "17           0.0  62.0  ...   4.0  18.0     155      75      Hostler   \n",
       "821          0.0  54.0  ...   3.0   0.0     170      65      Hostler   \n",
       "3375         0.0  24.0  ...  20.0  20.0     166      97      Hostler   \n",
       "4544        84.0  58.0  ...   1.0  13.0     162      45  Day Scholar   \n",
       "\n",
       "     Direction  Gender    Medium CourseType ProgramType  \n",
       "17       North  Female  Regional     Theory          UG  \n",
       "821      South  Female  Regional     Theory          UG  \n",
       "3375     South    Male   English     Theory          UG  \n",
       "4544     South  Female   English     Theory          UG  \n",
       "\n",
       "[4 rows x 21 columns]"
      ]
     },
     "execution_count": 87,
     "metadata": {},
     "output_type": "execute_result"
    }
   ],
   "source": [
    "df.head(4)"
   ]
  },
  {
   "cell_type": "code",
   "execution_count": 88,
   "metadata": {},
   "outputs": [
    {
     "data": {
      "text/plain": [
       "Index(['Termid', 'Regd No', 'Course', 'Grade', 'CA_100', 'MTT_50', 'ETT_100',\n",
       "       'ETP_100', 'Course_Att', 'CA_1', 'CA_2', 'CA_3', 'CA_4', 'Height',\n",
       "       'Weight', 'ScholarType', 'Direction', 'Gender', 'Medium', 'CourseType',\n",
       "       'ProgramType'],\n",
       "      dtype='object')"
      ]
     },
     "execution_count": 88,
     "metadata": {},
     "output_type": "execute_result"
    }
   ],
   "source": [
    "df.columns"
   ]
  },
  {
   "cell_type": "code",
   "execution_count": 89,
   "metadata": {},
   "outputs": [],
   "source": [
    "#similarly for all the values that are non numeric \n",
    "df[\"ScholarType\"]=ss.fit_transform(df[\"ScholarType\"])"
   ]
  },
  {
   "cell_type": "code",
   "execution_count": 90,
   "metadata": {},
   "outputs": [],
   "source": [
    "df[\"Direction\"]=ss.fit_transform(df[\"Direction\"])"
   ]
  },
  {
   "cell_type": "code",
   "execution_count": 91,
   "metadata": {},
   "outputs": [],
   "source": [
    "df[\"Gender\"]=ss.fit_transform(df[\"Gender\"])"
   ]
  },
  {
   "cell_type": "code",
   "execution_count": 92,
   "metadata": {},
   "outputs": [],
   "source": [
    "df[\"Medium\"]=ss.fit_transform(df[\"Medium\"])"
   ]
  },
  {
   "cell_type": "code",
   "execution_count": 93,
   "metadata": {},
   "outputs": [],
   "source": [
    "df[\"CourseType\"]=ss.fit_transform(df[\"CourseType\"])"
   ]
  },
  {
   "cell_type": "code",
   "execution_count": 94,
   "metadata": {},
   "outputs": [],
   "source": [
    "df[\"ProgramType\"]=ss.fit_transform(df[\"ProgramType\"])"
   ]
  },
  {
   "cell_type": "code",
   "execution_count": 95,
   "metadata": {},
   "outputs": [
    {
     "data": {
      "text/html": [
       "<div>\n",
       "<style scoped>\n",
       "    .dataframe tbody tr th:only-of-type {\n",
       "        vertical-align: middle;\n",
       "    }\n",
       "\n",
       "    .dataframe tbody tr th {\n",
       "        vertical-align: top;\n",
       "    }\n",
       "\n",
       "    .dataframe thead th {\n",
       "        text-align: right;\n",
       "    }\n",
       "</style>\n",
       "<table border=\"1\" class=\"dataframe\">\n",
       "  <thead>\n",
       "    <tr style=\"text-align: right;\">\n",
       "      <th></th>\n",
       "      <th>Termid</th>\n",
       "      <th>Regd No</th>\n",
       "      <th>Course</th>\n",
       "      <th>Grade</th>\n",
       "      <th>CA_100</th>\n",
       "      <th>MTT_50</th>\n",
       "      <th>ETT_100</th>\n",
       "      <th>ETP_100</th>\n",
       "      <th>Course_Att</th>\n",
       "      <th>CA_1</th>\n",
       "      <th>...</th>\n",
       "      <th>CA_3</th>\n",
       "      <th>CA_4</th>\n",
       "      <th>Height</th>\n",
       "      <th>Weight</th>\n",
       "      <th>ScholarType</th>\n",
       "      <th>Direction</th>\n",
       "      <th>Gender</th>\n",
       "      <th>Medium</th>\n",
       "      <th>CourseType</th>\n",
       "      <th>ProgramType</th>\n",
       "    </tr>\n",
       "  </thead>\n",
       "  <tbody>\n",
       "    <tr>\n",
       "      <th>17</th>\n",
       "      <td>518192</td>\n",
       "      <td>1105776</td>\n",
       "      <td>3</td>\n",
       "      <td>0</td>\n",
       "      <td>89.0</td>\n",
       "      <td>0.0</td>\n",
       "      <td>0.0</td>\n",
       "      <td>64.0</td>\n",
       "      <td>0.0</td>\n",
       "      <td>62.0</td>\n",
       "      <td>...</td>\n",
       "      <td>4.0</td>\n",
       "      <td>18.0</td>\n",
       "      <td>155</td>\n",
       "      <td>75</td>\n",
       "      <td>1</td>\n",
       "      <td>1</td>\n",
       "      <td>0</td>\n",
       "      <td>2</td>\n",
       "      <td>0</td>\n",
       "      <td>0</td>\n",
       "    </tr>\n",
       "    <tr>\n",
       "      <th>821</th>\n",
       "      <td>518192</td>\n",
       "      <td>1326776</td>\n",
       "      <td>3</td>\n",
       "      <td>3</td>\n",
       "      <td>71.0</td>\n",
       "      <td>0.0</td>\n",
       "      <td>0.0</td>\n",
       "      <td>72.0</td>\n",
       "      <td>0.0</td>\n",
       "      <td>54.0</td>\n",
       "      <td>...</td>\n",
       "      <td>3.0</td>\n",
       "      <td>0.0</td>\n",
       "      <td>170</td>\n",
       "      <td>65</td>\n",
       "      <td>1</td>\n",
       "      <td>2</td>\n",
       "      <td>0</td>\n",
       "      <td>2</td>\n",
       "      <td>0</td>\n",
       "      <td>0</td>\n",
       "    </tr>\n",
       "    <tr>\n",
       "      <th>3375</th>\n",
       "      <td>518192</td>\n",
       "      <td>1945776</td>\n",
       "      <td>3</td>\n",
       "      <td>0</td>\n",
       "      <td>87.0</td>\n",
       "      <td>0.0</td>\n",
       "      <td>0.0</td>\n",
       "      <td>63.0</td>\n",
       "      <td>0.0</td>\n",
       "      <td>24.0</td>\n",
       "      <td>...</td>\n",
       "      <td>20.0</td>\n",
       "      <td>20.0</td>\n",
       "      <td>166</td>\n",
       "      <td>97</td>\n",
       "      <td>1</td>\n",
       "      <td>2</td>\n",
       "      <td>1</td>\n",
       "      <td>0</td>\n",
       "      <td>0</td>\n",
       "      <td>0</td>\n",
       "    </tr>\n",
       "    <tr>\n",
       "      <th>4544</th>\n",
       "      <td>418192</td>\n",
       "      <td>2199776</td>\n",
       "      <td>1</td>\n",
       "      <td>1</td>\n",
       "      <td>88.0</td>\n",
       "      <td>43.0</td>\n",
       "      <td>72.0</td>\n",
       "      <td>0.0</td>\n",
       "      <td>84.0</td>\n",
       "      <td>58.0</td>\n",
       "      <td>...</td>\n",
       "      <td>1.0</td>\n",
       "      <td>13.0</td>\n",
       "      <td>162</td>\n",
       "      <td>45</td>\n",
       "      <td>0</td>\n",
       "      <td>2</td>\n",
       "      <td>0</td>\n",
       "      <td>0</td>\n",
       "      <td>0</td>\n",
       "      <td>0</td>\n",
       "    </tr>\n",
       "  </tbody>\n",
       "</table>\n",
       "<p>4 rows × 21 columns</p>\n",
       "</div>"
      ],
      "text/plain": [
       "      Termid  Regd No  Course  Grade  CA_100  MTT_50  ETT_100  ETP_100  \\\n",
       "17    518192  1105776       3      0    89.0     0.0      0.0     64.0   \n",
       "821   518192  1326776       3      3    71.0     0.0      0.0     72.0   \n",
       "3375  518192  1945776       3      0    87.0     0.0      0.0     63.0   \n",
       "4544  418192  2199776       1      1    88.0    43.0     72.0      0.0   \n",
       "\n",
       "      Course_Att  CA_1  ...  CA_3  CA_4  Height  Weight  ScholarType  \\\n",
       "17           0.0  62.0  ...   4.0  18.0     155      75            1   \n",
       "821          0.0  54.0  ...   3.0   0.0     170      65            1   \n",
       "3375         0.0  24.0  ...  20.0  20.0     166      97            1   \n",
       "4544        84.0  58.0  ...   1.0  13.0     162      45            0   \n",
       "\n",
       "      Direction  Gender  Medium  CourseType  ProgramType  \n",
       "17            1       0       2           0            0  \n",
       "821           2       0       2           0            0  \n",
       "3375          2       1       0           0            0  \n",
       "4544          2       0       0           0            0  \n",
       "\n",
       "[4 rows x 21 columns]"
      ]
     },
     "execution_count": 95,
     "metadata": {},
     "output_type": "execute_result"
    }
   ],
   "source": [
    "df.head(4)"
   ]
  },
  {
   "cell_type": "code",
   "execution_count": 96,
   "metadata": {},
   "outputs": [
    {
     "data": {
      "text/plain": [
       "1    22\n",
       "3    12\n",
       "2    11\n",
       "0    11\n",
       "Name: Direction, dtype: int64"
      ]
     },
     "execution_count": 96,
     "metadata": {},
     "output_type": "execute_result"
    }
   ],
   "source": [
    "#checking the value count\n",
    "df.Direction.value_counts()"
   ]
  },
  {
   "cell_type": "code",
   "execution_count": 97,
   "metadata": {},
   "outputs": [
    {
     "data": {
      "text/plain": [
       "0    56\n",
       "Name: CourseType, dtype: int64"
      ]
     },
     "execution_count": 97,
     "metadata": {},
     "output_type": "execute_result"
    }
   ],
   "source": [
    "df.CourseType.value_counts()"
   ]
  },
  {
   "cell_type": "code",
   "execution_count": 98,
   "metadata": {},
   "outputs": [
    {
     "data": {
      "text/plain": [
       "0    56\n",
       "Name: ProgramType, dtype: int64"
      ]
     },
     "execution_count": 98,
     "metadata": {},
     "output_type": "execute_result"
    }
   ],
   "source": [
    "df.ProgramType.value_counts()"
   ]
  },
  {
   "cell_type": "code",
   "execution_count": null,
   "metadata": {},
   "outputs": [],
   "source": []
  },
  {
   "cell_type": "code",
   "execution_count": null,
   "metadata": {},
   "outputs": [],
   "source": []
  },
  {
   "cell_type": "code",
   "execution_count": 99,
   "metadata": {},
   "outputs": [
    {
     "name": "stdout",
     "output_type": "stream",
     "text": [
      "       CA_100  MTT_50\n",
      "17       89.0     0.0\n",
      "821      71.0     0.0\n",
      "3375     87.0     0.0\n",
      "4544     88.0    43.0\n",
      "4545     71.0    30.0\n",
      "4546     82.0     0.0\n",
      "4547     70.0    42.0\n",
      "4548     62.0    37.0\n",
      "4549     61.0    42.0\n",
      "4550     72.0     0.0\n",
      "4551     67.0    37.0\n",
      "8803     96.0     0.0\n",
      "11348    82.0     0.0\n",
      "12325    70.0     0.0\n",
      "12733    70.0    30.0\n",
      "12734    40.0    20.0\n",
      "12735    17.0     5.0\n",
      "12736    44.0     0.0\n",
      "12737    80.0     0.0\n",
      "12738    59.0     0.0\n",
      "12739    65.0     0.0\n",
      "12740    40.0    24.0\n",
      "12741    70.0    18.0\n",
      "12742    36.0     0.0\n",
      "12743    58.0     0.0\n",
      "13117    83.0     0.0\n",
      "13118    79.0    40.0\n",
      "13119    72.0    33.0\n",
      "13120    83.0     0.0\n",
      "13121    62.0    33.0\n",
      "13122    70.0    39.0\n",
      "13123    70.0    29.0\n",
      "13124    82.0    35.0\n",
      "13125    81.0     0.0\n",
      "13275    60.0     0.0\n",
      "15865    77.0     0.0\n",
      "34115    81.0     0.0\n",
      "34116    79.0    30.0\n",
      "34117    65.0    37.0\n",
      "34118    83.0     0.0\n",
      "34119    62.0    39.0\n",
      "34120    67.0    33.0\n",
      "34121    74.0    35.0\n",
      "34122    75.0    38.0\n",
      "34123    76.0     0.0\n",
      "43077    85.0     0.0\n",
      "43078    87.0    40.0\n",
      "43079    79.0    43.0\n",
      "43080    69.0     0.0\n",
      "43081    90.0    40.0\n",
      "43082    60.0    40.0\n",
      "43083    80.0    45.0\n",
      "43084    84.0    40.0\n",
      "43085    78.0     0.0\n",
      "45806    86.0     0.0\n",
      "56691    87.0     0.0\n"
     ]
    }
   ],
   "source": [
    "\n",
    "X=df.loc[:,['CA_100','MTT_50']]\n",
    "print(X)"
   ]
  },
  {
   "cell_type": "code",
   "execution_count": 100,
   "metadata": {},
   "outputs": [
    {
     "data": {
      "text/html": [
       "<div>\n",
       "<style scoped>\n",
       "    .dataframe tbody tr th:only-of-type {\n",
       "        vertical-align: middle;\n",
       "    }\n",
       "\n",
       "    .dataframe tbody tr th {\n",
       "        vertical-align: top;\n",
       "    }\n",
       "\n",
       "    .dataframe thead th {\n",
       "        text-align: right;\n",
       "    }\n",
       "</style>\n",
       "<table border=\"1\" class=\"dataframe\">\n",
       "  <thead>\n",
       "    <tr style=\"text-align: right;\">\n",
       "      <th></th>\n",
       "      <th>Termid</th>\n",
       "      <th>Regd No</th>\n",
       "      <th>Course</th>\n",
       "      <th>Grade</th>\n",
       "      <th>CA_100</th>\n",
       "      <th>MTT_50</th>\n",
       "      <th>ETT_100</th>\n",
       "      <th>ETP_100</th>\n",
       "      <th>Course_Att</th>\n",
       "      <th>CA_1</th>\n",
       "      <th>...</th>\n",
       "      <th>CA_3</th>\n",
       "      <th>CA_4</th>\n",
       "      <th>Height</th>\n",
       "      <th>Weight</th>\n",
       "      <th>ScholarType</th>\n",
       "      <th>Direction</th>\n",
       "      <th>Gender</th>\n",
       "      <th>Medium</th>\n",
       "      <th>CourseType</th>\n",
       "      <th>ProgramType</th>\n",
       "    </tr>\n",
       "  </thead>\n",
       "  <tbody>\n",
       "    <tr>\n",
       "      <th>17</th>\n",
       "      <td>518192</td>\n",
       "      <td>1105776</td>\n",
       "      <td>3</td>\n",
       "      <td>0</td>\n",
       "      <td>89.0</td>\n",
       "      <td>0.0</td>\n",
       "      <td>0.0</td>\n",
       "      <td>64.0</td>\n",
       "      <td>0.0</td>\n",
       "      <td>62.0</td>\n",
       "      <td>...</td>\n",
       "      <td>4.0</td>\n",
       "      <td>18.0</td>\n",
       "      <td>155</td>\n",
       "      <td>75</td>\n",
       "      <td>1</td>\n",
       "      <td>1</td>\n",
       "      <td>0</td>\n",
       "      <td>2</td>\n",
       "      <td>0</td>\n",
       "      <td>0</td>\n",
       "    </tr>\n",
       "    <tr>\n",
       "      <th>821</th>\n",
       "      <td>518192</td>\n",
       "      <td>1326776</td>\n",
       "      <td>3</td>\n",
       "      <td>3</td>\n",
       "      <td>71.0</td>\n",
       "      <td>0.0</td>\n",
       "      <td>0.0</td>\n",
       "      <td>72.0</td>\n",
       "      <td>0.0</td>\n",
       "      <td>54.0</td>\n",
       "      <td>...</td>\n",
       "      <td>3.0</td>\n",
       "      <td>0.0</td>\n",
       "      <td>170</td>\n",
       "      <td>65</td>\n",
       "      <td>1</td>\n",
       "      <td>2</td>\n",
       "      <td>0</td>\n",
       "      <td>2</td>\n",
       "      <td>0</td>\n",
       "      <td>0</td>\n",
       "    </tr>\n",
       "    <tr>\n",
       "      <th>3375</th>\n",
       "      <td>518192</td>\n",
       "      <td>1945776</td>\n",
       "      <td>3</td>\n",
       "      <td>0</td>\n",
       "      <td>87.0</td>\n",
       "      <td>0.0</td>\n",
       "      <td>0.0</td>\n",
       "      <td>63.0</td>\n",
       "      <td>0.0</td>\n",
       "      <td>24.0</td>\n",
       "      <td>...</td>\n",
       "      <td>20.0</td>\n",
       "      <td>20.0</td>\n",
       "      <td>166</td>\n",
       "      <td>97</td>\n",
       "      <td>1</td>\n",
       "      <td>2</td>\n",
       "      <td>1</td>\n",
       "      <td>0</td>\n",
       "      <td>0</td>\n",
       "      <td>0</td>\n",
       "    </tr>\n",
       "    <tr>\n",
       "      <th>4544</th>\n",
       "      <td>418192</td>\n",
       "      <td>2199776</td>\n",
       "      <td>1</td>\n",
       "      <td>1</td>\n",
       "      <td>88.0</td>\n",
       "      <td>43.0</td>\n",
       "      <td>72.0</td>\n",
       "      <td>0.0</td>\n",
       "      <td>84.0</td>\n",
       "      <td>58.0</td>\n",
       "      <td>...</td>\n",
       "      <td>1.0</td>\n",
       "      <td>13.0</td>\n",
       "      <td>162</td>\n",
       "      <td>45</td>\n",
       "      <td>0</td>\n",
       "      <td>2</td>\n",
       "      <td>0</td>\n",
       "      <td>0</td>\n",
       "      <td>0</td>\n",
       "      <td>0</td>\n",
       "    </tr>\n",
       "    <tr>\n",
       "      <th>4545</th>\n",
       "      <td>418192</td>\n",
       "      <td>2199776</td>\n",
       "      <td>2</td>\n",
       "      <td>3</td>\n",
       "      <td>71.0</td>\n",
       "      <td>30.0</td>\n",
       "      <td>59.0</td>\n",
       "      <td>0.0</td>\n",
       "      <td>88.0</td>\n",
       "      <td>55.0</td>\n",
       "      <td>...</td>\n",
       "      <td>6.0</td>\n",
       "      <td>2.0</td>\n",
       "      <td>162</td>\n",
       "      <td>45</td>\n",
       "      <td>0</td>\n",
       "      <td>2</td>\n",
       "      <td>0</td>\n",
       "      <td>0</td>\n",
       "      <td>0</td>\n",
       "      <td>0</td>\n",
       "    </tr>\n",
       "  </tbody>\n",
       "</table>\n",
       "<p>5 rows × 21 columns</p>\n",
       "</div>"
      ],
      "text/plain": [
       "      Termid  Regd No  Course  Grade  CA_100  MTT_50  ETT_100  ETP_100  \\\n",
       "17    518192  1105776       3      0    89.0     0.0      0.0     64.0   \n",
       "821   518192  1326776       3      3    71.0     0.0      0.0     72.0   \n",
       "3375  518192  1945776       3      0    87.0     0.0      0.0     63.0   \n",
       "4544  418192  2199776       1      1    88.0    43.0     72.0      0.0   \n",
       "4545  418192  2199776       2      3    71.0    30.0     59.0      0.0   \n",
       "\n",
       "      Course_Att  CA_1  ...  CA_3  CA_4  Height  Weight  ScholarType  \\\n",
       "17           0.0  62.0  ...   4.0  18.0     155      75            1   \n",
       "821          0.0  54.0  ...   3.0   0.0     170      65            1   \n",
       "3375         0.0  24.0  ...  20.0  20.0     166      97            1   \n",
       "4544        84.0  58.0  ...   1.0  13.0     162      45            0   \n",
       "4545        88.0  55.0  ...   6.0   2.0     162      45            0   \n",
       "\n",
       "      Direction  Gender  Medium  CourseType  ProgramType  \n",
       "17            1       0       2           0            0  \n",
       "821           2       0       2           0            0  \n",
       "3375          2       1       0           0            0  \n",
       "4544          2       0       0           0            0  \n",
       "4545          2       0       0           0            0  \n",
       "\n",
       "[5 rows x 21 columns]"
      ]
     },
     "execution_count": 100,
     "metadata": {},
     "output_type": "execute_result"
    }
   ],
   "source": [
    "df.head(5)"
   ]
  },
  {
   "cell_type": "code",
   "execution_count": 101,
   "metadata": {},
   "outputs": [
    {
     "data": {
      "text/plain": [
       "Index(['Termid', 'Regd No', 'Course', 'Grade', 'CA_100', 'MTT_50', 'ETT_100',\n",
       "       'ETP_100', 'Course_Att', 'CA_1', 'CA_2', 'CA_3', 'CA_4', 'Height',\n",
       "       'Weight', 'ScholarType', 'Direction', 'Gender', 'Medium', 'CourseType',\n",
       "       'ProgramType'],\n",
       "      dtype='object')"
      ]
     },
     "execution_count": 101,
     "metadata": {},
     "output_type": "execute_result"
    }
   ],
   "source": [
    "df.columns"
   ]
  },
  {
   "cell_type": "markdown",
   "metadata": {},
   "source": [
    "## Data visualization"
   ]
  },
  {
   "cell_type": "code",
   "execution_count": 102,
   "metadata": {
    "scrolled": true
   },
   "outputs": [
    {
     "data": {
      "image/png": "[encoded data removed]",
      "text/plain": [
       "<Figure size 224.875x720 with 4 Axes>"
      ]
     },
     "metadata": {
      "needs_background": "light"
     },
     "output_type": "display_data"
    }
   ],
   "source": [
    "#data visualization of CA's\n",
    "sns.pairplot( data=df,\n",
    "   hue='Gender',\n",
    "    palette=None,\n",
    "    x_vars=[\"CA_100\"],\n",
    "    y_vars=[\"CA_4\",'CA_1', 'CA_2', 'CA_3'],\n",
    "    #size=6,\n",
    "    kind=\"reg\",)\n",
    "plt.show()\n"
   ]
  },
  {
   "cell_type": "code",
   "execution_count": 103,
   "metadata": {},
   "outputs": [
    {
     "data": {
      "text/plain": [
       "<matplotlib.axes._subplots.AxesSubplot at 0x1cf637b0ef0>"
      ]
     },
     "execution_count": 103,
     "metadata": {},
     "output_type": "execute_result"
    },
    {
     "data": {
      "image/png": "[encoded data removed]",
      "text/plain": [
       "<Figure size 648x504 with 3 Axes>"
      ]
     },
     "metadata": {
      "needs_background": "light"
     },
     "output_type": "display_data"
    }
   ],
   "source": [
    "#visualization of final CA, MTT and ETT\n",
    "plt.figure(figsize=(9,7))\n",
    "plt.subplot(2,2,1)\n",
    "sns.violinplot(df['CA_100'])\n",
    "plt.subplot(2,2,2)\n",
    "sns.violinplot(df['MTT_50'])\n",
    "plt.subplot(2,2,3)\n",
    "sns.violinplot(df['ETT_100'])\n",
    "\n",
    "\n",
    "\n"
   ]
  },
  {
   "cell_type": "markdown",
   "metadata": {},
   "source": [
    "# #outliers\n"
   ]
  },
  {
   "cell_type": "code",
   "execution_count": 104,
   "metadata": {},
   "outputs": [
    {
     "data": {
      "text/plain": [
       "Index(['Termid', 'Regd No', 'Course', 'Grade', 'CA_100', 'MTT_50', 'ETT_100',\n",
       "       'ETP_100', 'Course_Att', 'CA_1', 'CA_2', 'CA_3', 'CA_4', 'Height',\n",
       "       'Weight', 'ScholarType', 'Direction', 'Gender', 'Medium', 'CourseType',\n",
       "       'ProgramType'],\n",
       "      dtype='object')"
      ]
     },
     "execution_count": 104,
     "metadata": {},
     "output_type": "execute_result"
    }
   ],
   "source": [
    "df.columns"
   ]
  },
  {
   "cell_type": "code",
   "execution_count": 105,
   "metadata": {},
   "outputs": [
    {
     "data": {
      "text/plain": [
       "<matplotlib.axes._subplots.AxesSubplot at 0x1cf6376ad68>"
      ]
     },
     "execution_count": 105,
     "metadata": {},
     "output_type": "execute_result"
    },
    {
     "data": {
      "image/png": "[encoded data removed]",
      "text/plain": [
       "<Figure size 648x504 with 3 Axes>"
      ]
     },
     "metadata": {
      "needs_background": "light"
     },
     "output_type": "display_data"
    }
   ],
   "source": [
    "plt.figure(figsize=(9,7))\n",
    "plt.subplot(2,2,1)\n",
    "sns.boxplot(df.CA_100,color=\"skyblue\")\n",
    "plt.subplot(2,2,2)\n",
    "sns.boxplot(df['MTT_50'],color=\"lightgreen\")\n",
    "plt.subplot(2,2,3)\n",
    "sns.boxplot(df['ETT_100'],color=\"skyblue\")"
   ]
  },
  {
   "cell_type": "code",
   "execution_count": 106,
   "metadata": {},
   "outputs": [],
   "source": [
    "##  NO outliers is present "
   ]
  },
  {
   "cell_type": "markdown",
   "metadata": {},
   "source": [
    "## Heatmap(for seeing the correlation )"
   ]
  },
  {
   "cell_type": "code",
   "execution_count": 107,
   "metadata": {},
   "outputs": [
    {
     "data": {
      "text/plain": [
       "<matplotlib.axes._subplots.AxesSubplot at 0x1cf636c4be0>"
      ]
     },
     "execution_count": 107,
     "metadata": {},
     "output_type": "execute_result"
    },
    {
     "data": {
      "image/png": "[encoded data removed]",
      "text/plain": [
       "<Figure size 720x720 with 2 Axes>"
      ]
     },
     "metadata": {
      "needs_background": "light"
     },
     "output_type": "display_data"
    }
   ],
   "source": [
    "plt.figure(figsize=(10,10))\n",
    "sns.heatmap(df.corr(), square= True)"
   ]
  },
  {
   "cell_type": "code",
   "execution_count": 108,
   "metadata": {},
   "outputs": [],
   "source": [
    "df.reset_index(inplace=True)"
   ]
  },
  {
   "cell_type": "code",
   "execution_count": 109,
   "metadata": {},
   "outputs": [
    {
     "name": "stdout",
     "output_type": "stream",
     "text": [
      "<class 'pandas.core.frame.DataFrame'>\n",
      "RangeIndex: 56 entries, 0 to 55\n",
      "Data columns (total 22 columns):\n",
      "index          56 non-null int64\n",
      "Termid         56 non-null int64\n",
      "Regd No        56 non-null int64\n",
      "Course         56 non-null int32\n",
      "Grade          56 non-null int32\n",
      "CA_100         56 non-null float64\n",
      "MTT_50         56 non-null float64\n",
      "ETT_100        56 non-null float64\n",
      "ETP_100        56 non-null float64\n",
      "Course_Att     56 non-null float64\n",
      "CA_1           56 non-null float64\n",
      "CA_2           56 non-null float64\n",
      "CA_3           56 non-null float64\n",
      "CA_4           56 non-null float64\n",
      "Height         56 non-null int64\n",
      "Weight         56 non-null int64\n",
      "ScholarType    56 non-null int32\n",
      "Direction      56 non-null int32\n",
      "Gender         56 non-null int32\n",
      "Medium         56 non-null int32\n",
      "CourseType     56 non-null int32\n",
      "ProgramType    56 non-null int32\n",
      "dtypes: float64(9), int32(8), int64(5)\n",
      "memory usage: 8.0 KB\n"
     ]
    }
   ],
   "source": [
    "df.info()"
   ]
  },
  {
   "cell_type": "code",
   "execution_count": 110,
   "metadata": {},
   "outputs": [
    {
     "data": {
      "text/plain": [
       "(56, 22)"
      ]
     },
     "execution_count": 110,
     "metadata": {},
     "output_type": "execute_result"
    }
   ],
   "source": [
    "df.shape"
   ]
  },
  {
   "cell_type": "code",
   "execution_count": 111,
   "metadata": {},
   "outputs": [
    {
     "data": {
      "text/plain": [
       "Index(['index', 'Termid', 'Regd No', 'Course', 'Grade', 'CA_100', 'MTT_50',\n",
       "       'ETT_100', 'ETP_100', 'Course_Att', 'CA_1', 'CA_2', 'CA_3', 'CA_4',\n",
       "       'Height', 'Weight', 'ScholarType', 'Direction', 'Gender', 'Medium',\n",
       "       'CourseType', 'ProgramType'],\n",
       "      dtype='object')"
      ]
     },
     "execution_count": 111,
     "metadata": {},
     "output_type": "execute_result"
    }
   ],
   "source": [
    "df.columns"
   ]
  },
  {
   "cell_type": "code",
   "execution_count": 112,
   "metadata": {},
   "outputs": [],
   "source": [
    "#splitting\n",
    "kmeans_df = df.copy()\n",
    "kmeans_df = df.drop(['Regd No','Grade'],axis=1)"
   ]
  },
  {
   "cell_type": "markdown",
   "metadata": {},
   "source": [
    "## Elbow Method \n",
    "\n"
   ]
  },
  {
   "cell_type": "code",
   "execution_count": 113,
   "metadata": {},
   "outputs": [
    {
     "name": "stdout",
     "output_type": "stream",
     "text": [
      "636189064403426.5\n",
      "71285885803293.75\n",
      "37931288152989.64\n",
      "10776431899720.572\n",
      "3487059228653.3535\n",
      "1980830907869.349\n",
      "1092612021225.2806\n",
      "662569751172.3367\n",
      "373335450968.4034\n"
     ]
    },
    {
     "data": {
      "image/png": "[encoded data removed]",
      "text/plain": [
       "<Figure size 432x288 with 1 Axes>"
      ]
     },
     "metadata": {
      "needs_background": "light"
     },
     "output_type": "display_data"
    }
   ],
   "source": [
    "#Elbow method\n",
    "\n",
    "distortion=[]\n",
    "\n",
    "for i in range(1,10,1):\n",
    "    km=KMeans(n_clusters=i)\n",
    "    y_km=km.fit_predict(df)\n",
    "    distortion.append(km.inertia_)\n",
    "    print(km.inertia_)\n",
    "\n",
    "a=np.arange(1,10,1)\n",
    "plt.plot(a,distortion)\n",
    "plt.grid()\n",
    "plt.title('Elbow Method')\n",
    "plt.show()"
   ]
  },
  {
   "cell_type": "code",
   "execution_count": 114,
   "metadata": {},
   "outputs": [],
   "source": [
    "#elbow method gives a clear idea of number of cluster to made \n",
    "#as we can see it's 4 because after four graph is linear so we can take the value as 4\n"
   ]
  },
  {
   "cell_type": "code",
   "execution_count": 115,
   "metadata": {},
   "outputs": [
    {
     "name": "stdout",
     "output_type": "stream",
     "text": [
      "Columns in KMeans data input\n",
      " ['index' 'Termid' 'Course' 'CA_100' 'MTT_50' 'ETT_100' 'ETP_100'\n",
      " 'Course_Att' 'CA_1' 'CA_2' 'CA_3' 'CA_4' 'Height' 'Weight' 'ScholarType'\n",
      " 'Direction' 'Gender' 'Medium' 'CourseType' 'ProgramType']\n"
     ]
    }
   ],
   "source": [
    "print(\"Columns in KMeans data input\\n\",kmeans_df.columns.values)\n",
    "#creating an array of colors for the clusters\n",
    "c = ['red','blue','green','yellow','orange','black','indigo']\n",
    "\n",
    "distortion=[]"
   ]
  },
  {
   "cell_type": "code",
   "execution_count": 116,
   "metadata": {},
   "outputs": [],
   "source": [
    "#so what we can do we can simply loop over the gradelen that is why we have intialized the Gradelen earlier  as that number of clusters should be made."
   ]
  },
  {
   "cell_type": "code",
   "execution_count": null,
   "metadata": {},
   "outputs": [],
   "source": [
    "\n"
   ]
  },
  {
   "cell_type": "markdown",
   "metadata": {},
   "source": [
    "## Applying the Kmeans"
   ]
  },
  {
   "cell_type": "code",
   "execution_count": 117,
   "metadata": {},
   "outputs": [
    {
     "name": "stdout",
     "output_type": "stream",
     "text": [
      "*******************************************************\n",
      "Centers [[2.26132222e+04 4.40414222e+05 8.17777778e+00 7.63111111e+01\n",
      "  2.00000000e+01 3.78444444e+01 3.30444444e+01 5.92666667e+01\n",
      "  3.85111111e+01 1.60666667e+01 9.51111111e+00 1.22222222e+01\n",
      "  1.60711111e+02 6.24222222e+01 5.33333333e-01 1.04444444e+00\n",
      "  6.66666667e-01 1.00000000e+00 0.00000000e+00 0.00000000e+00]\n",
      " [1.27380000e+04 3.18192000e+05 2.04545455e+01 5.26363636e+01\n",
      "  8.81818182e+00 1.96363636e+01 2.13636364e+01 8.37272727e+01\n",
      "  2.30909091e+01 1.90909091e+01 6.00000000e+00 4.45454545e+00\n",
      "  1.69000000e+02 4.40000000e+01 1.00000000e+00 3.00000000e+00\n",
      "  0.00000000e+00 1.00000000e+00 0.00000000e+00 0.00000000e+00]]\n",
      "*******************************************************\n",
      "Silhouette score for 2 cluster = 0.6969112216047011\n",
      "********************************************************\n"
     ]
    },
    {
     "data": {
      "image/png": "[encoded data removed]",
      "text/plain": [
       "<Figure size 432x288 with 1 Axes>"
      ]
     },
     "metadata": {
      "needs_background": "light"
     },
     "output_type": "display_data"
    },
    {
     "name": "stdout",
     "output_type": "stream",
     "text": [
      "*******************************************************\n",
      "Centers [[ 2.42648286e+04  4.18192000e+05  9.65714286e+00  7.51142857e+01\n",
      "   2.57142857e+01  4.86571429e+01  2.27428571e+01  7.62000000e+01\n",
      "   3.82285714e+01  1.45714286e+01  1.00285714e+01  1.22857143e+01\n",
      "   1.58914286e+02  5.96571429e+01  5.14285714e-01  9.71428571e-01\n",
      "   7.71428571e-01  1.02857143e+00  0.00000000e+00  0.00000000e+00]\n",
      " [ 1.27380000e+04  3.18192000e+05  2.04545455e+01  5.26363636e+01\n",
      "   8.81818182e+00  1.96363636e+01  2.13636364e+01  8.37272727e+01\n",
      "   2.30909091e+01  1.90909091e+01  6.00000000e+00  4.45454545e+00\n",
      "   1.69000000e+02  4.40000000e+01  1.00000000e+00  3.00000000e+00\n",
      "   0.00000000e+00  1.00000000e+00  0.00000000e+00  0.00000000e+00]\n",
      " [ 1.68326000e+04  5.18192000e+05  3.00000000e+00  8.05000000e+01\n",
      "   3.55271368e-15 -7.10542736e-15  6.91000000e+01  0.00000000e+00\n",
      "   3.95000000e+01  2.13000000e+01  7.70000000e+00  1.20000000e+01\n",
      "   1.67000000e+02  7.21000000e+01  6.00000000e-01  1.30000000e+00\n",
      "   3.00000000e-01  9.00000000e-01  0.00000000e+00  0.00000000e+00]]\n",
      "*******************************************************\n",
      "Silhouette score for 3 cluster = 0.8581622715458049\n",
      "********************************************************\n"
     ]
    },
    {
     "data": {
      "image/png": "[encoded data removed]",
      "text/plain": [
       "<Figure size 432x288 with 1 Axes>"
      ]
     },
     "metadata": {
      "needs_background": "light"
     },
     "output_type": "display_data"
    },
    {
     "name": "stdout",
     "output_type": "stream",
     "text": [
      "*******************************************************\n",
      "Centers [[ 1.27380000e+04  3.18192000e+05  2.04545455e+01  5.26363636e+01\n",
      "   8.81818182e+00  1.96363636e+01  2.13636364e+01  8.37272727e+01\n",
      "   2.30909091e+01  1.90909091e+01  6.00000000e+00  4.45454545e+00\n",
      "   1.69000000e+02  4.40000000e+01  1.00000000e+00  3.00000000e+00\n",
      "   0.00000000e+00  1.00000000e+00  0.00000000e+00  0.00000000e+00]\n",
      " [ 9.08641176e+03  4.18192000e+05  9.05882353e+00  7.38235294e+01\n",
      "   2.58823529e+01  4.73529412e+01  2.31764706e+01  7.57058824e+01\n",
      "   3.87058824e+01  1.57058824e+01  1.01764706e+01  9.23529412e+00\n",
      "   1.56176471e+02  4.92352941e+01  5.29411765e-01  1.47058824e+00\n",
      "   5.29411765e-01  0.00000000e+00  0.00000000e+00  0.00000000e+00]\n",
      " [ 1.68326000e+04  5.18192000e+05  3.00000000e+00  8.05000000e+01\n",
      "   3.55271368e-15 -7.10542736e-15  6.91000000e+01  0.00000000e+00\n",
      "   3.95000000e+01  2.13000000e+01  7.70000000e+00  1.20000000e+01\n",
      "   1.67000000e+02  7.21000000e+01  6.00000000e-01  1.30000000e+00\n",
      "   3.00000000e-01  9.00000000e-01  0.00000000e+00  0.00000000e+00]\n",
      " [ 3.86000000e+04  4.18192000e+05  1.02222222e+01  7.63333333e+01\n",
      "   2.55555556e+01  4.98888889e+01  2.23333333e+01  7.66666667e+01\n",
      "   3.77777778e+01  1.35000000e+01  9.88888889e+00  1.51666667e+01\n",
      "   1.61500000e+02  6.95000000e+01  5.00000000e-01  5.00000000e-01\n",
      "   1.00000000e+00  2.00000000e+00  0.00000000e+00  0.00000000e+00]]\n",
      "*******************************************************\n",
      "Silhouette score for 4 cluster = 0.8631912841145256\n",
      "********************************************************\n"
     ]
    },
    {
     "data": {
      "image/png": "[encoded data removed]",
      "text/plain": [
       "<Figure size 432x288 with 1 Axes>"
      ]
     },
     "metadata": {
      "needs_background": "light"
     },
     "output_type": "display_data"
    },
    {
     "name": "stdout",
     "output_type": "stream",
     "text": [
      "*******************************************************\n",
      "Centers [[3.86000000e+04 4.18192000e+05 1.02222222e+01 7.63333333e+01\n",
      "  2.55555556e+01 4.98888889e+01 2.23333333e+01 7.66666667e+01\n",
      "  3.77777778e+01 1.35000000e+01 9.88888889e+00 1.51666667e+01\n",
      "  1.61500000e+02 6.95000000e+01 5.00000000e-01 5.00000000e-01\n",
      "  1.00000000e+00 2.00000000e+00 0.00000000e+00 0.00000000e+00]\n",
      " [8.22862500e+03 5.18192000e+05 3.00000000e+00 7.90000000e+01\n",
      "  0.00000000e+00 0.00000000e+00 6.73750000e+01 0.00000000e+00\n",
      "  4.37500000e+01 1.48750000e+01 7.87500000e+00 1.25000000e+01\n",
      "  1.65625000e+02 7.28750000e+01 7.50000000e-01 1.37500000e+00\n",
      "  3.75000000e-01 8.75000000e-01 0.00000000e+00 0.00000000e+00]\n",
      " [1.27380000e+04 3.18192000e+05 2.04545455e+01 5.26363636e+01\n",
      "  8.81818182e+00 1.96363636e+01 2.13636364e+01 8.37272727e+01\n",
      "  2.30909091e+01 1.90909091e+01 6.00000000e+00 4.45454545e+00\n",
      "  1.69000000e+02 4.40000000e+01 1.00000000e+00 3.00000000e+00\n",
      "  0.00000000e+00 1.00000000e+00 0.00000000e+00 0.00000000e+00]\n",
      " [9.08641176e+03 4.18192000e+05 9.05882353e+00 7.38235294e+01\n",
      "  2.58823529e+01 4.73529412e+01 2.31764706e+01 7.57058824e+01\n",
      "  3.87058824e+01 1.57058824e+01 1.01764706e+01 9.23529412e+00\n",
      "  1.56176471e+02 4.92352941e+01 5.29411765e-01 1.47058824e+00\n",
      "  5.29411765e-01 0.00000000e+00 0.00000000e+00 0.00000000e+00]\n",
      " [5.12485000e+04 5.18192000e+05 3.00000000e+00 8.65000000e+01\n",
      "  0.00000000e+00 0.00000000e+00 7.60000000e+01 0.00000000e+00\n",
      "  2.25000000e+01 4.70000000e+01 7.00000000e+00 1.00000000e+01\n",
      "  1.72500000e+02 6.90000000e+01 0.00000000e+00 1.00000000e+00\n",
      "  0.00000000e+00 1.00000000e+00 0.00000000e+00 0.00000000e+00]]\n",
      "*******************************************************\n",
      "Silhouette score for 5 cluster = 0.8653912842653094\n",
      "********************************************************\n"
     ]
    },
    {
     "data": {
      "image/png": "[encoded data removed]",
      "text/plain": [
       "<Figure size 432x288 with 1 Axes>"
      ]
     },
     "metadata": {
      "needs_background": "light"
     },
     "output_type": "display_data"
    },
    {
     "name": "stdout",
     "output_type": "stream",
     "text": [
      "*******************************************************\n",
      "Centers [[9.08641176e+03 4.18192000e+05 9.05882353e+00 7.38235294e+01\n",
      "  2.58823529e+01 4.73529412e+01 2.31764706e+01 7.57058824e+01\n",
      "  3.87058824e+01 1.57058824e+01 1.01764706e+01 9.23529412e+00\n",
      "  1.56176471e+02 4.92352941e+01 5.29411765e-01 1.47058824e+00\n",
      "  5.29411765e-01 0.00000000e+00 0.00000000e+00 0.00000000e+00]\n",
      " [1.27380000e+04 3.18192000e+05 2.04545455e+01 5.26363636e+01\n",
      "  8.81818182e+00 1.96363636e+01 2.13636364e+01 8.37272727e+01\n",
      "  2.30909091e+01 1.90909091e+01 6.00000000e+00 4.45454545e+00\n",
      "  1.69000000e+02 4.40000000e+01 1.00000000e+00 3.00000000e+00\n",
      "  0.00000000e+00 1.00000000e+00 0.00000000e+00 0.00000000e+00]\n",
      " [8.22862500e+03 5.18192000e+05 3.00000000e+00 7.90000000e+01\n",
      "  0.00000000e+00 0.00000000e+00 6.73750000e+01 0.00000000e+00\n",
      "  4.37500000e+01 1.48750000e+01 7.87500000e+00 1.25000000e+01\n",
      "  1.65625000e+02 7.28750000e+01 7.50000000e-01 1.37500000e+00\n",
      "  3.75000000e-01 8.75000000e-01 0.00000000e+00 0.00000000e+00]\n",
      " [4.30810000e+04 4.18192000e+05 1.02222222e+01 7.91111111e+01\n",
      "  2.75555556e+01 5.40000000e+01 2.72222222e+01 7.13333333e+01\n",
      "  4.06666667e+01 1.44444444e+01 1.26666667e+01 1.13333333e+01\n",
      "  1.55000000e+02 7.60000000e+01 0.00000000e+00 1.00000000e+00\n",
      "  1.00000000e+00 2.00000000e+00 0.00000000e+00 0.00000000e+00]\n",
      " [5.12485000e+04 5.18192000e+05 3.00000000e+00 8.65000000e+01\n",
      "  0.00000000e+00 0.00000000e+00 7.60000000e+01 0.00000000e+00\n",
      "  2.25000000e+01 4.70000000e+01 7.00000000e+00 1.00000000e+01\n",
      "  1.72500000e+02 6.90000000e+01 0.00000000e+00 1.00000000e+00\n",
      "  0.00000000e+00 1.00000000e+00 0.00000000e+00 0.00000000e+00]\n",
      " [3.41190000e+04 4.18192000e+05 1.02222222e+01 7.35555556e+01\n",
      "  2.35555556e+01 4.57777778e+01 1.74444444e+01 8.20000000e+01\n",
      "  3.48888889e+01 1.25555556e+01 7.11111111e+00 1.90000000e+01\n",
      "  1.68000000e+02 6.30000000e+01 1.00000000e+00 0.00000000e+00\n",
      "  1.00000000e+00 2.00000000e+00 0.00000000e+00 0.00000000e+00]]\n",
      "*******************************************************\n",
      "Silhouette score for 6 cluster = 0.906524733546228\n",
      "********************************************************\n"
     ]
    },
    {
     "data": {
      "image/png": "[encoded data removed]",
      "text/plain": [
       "<Figure size 432x288 with 1 Axes>"
      ]
     },
     "metadata": {
      "needs_background": "light"
     },
     "output_type": "display_data"
    },
    {
     "name": "stdout",
     "output_type": "stream",
     "text": [
      "*******************************************************\n",
      "Centers [[8.22862500e+03 5.18192000e+05 3.00000000e+00 7.90000000e+01\n",
      "  0.00000000e+00 0.00000000e+00 6.73750000e+01 0.00000000e+00\n",
      "  4.37500000e+01 1.48750000e+01 7.87500000e+00 1.25000000e+01\n",
      "  1.65625000e+02 7.28750000e+01 7.50000000e-01 1.37500000e+00\n",
      "  3.75000000e-01 8.75000000e-01 0.00000000e+00 0.00000000e+00]\n",
      " [1.31210000e+04 4.18192000e+05 1.02222222e+01 7.57777778e+01\n",
      "  2.32222222e+01 4.40000000e+01 2.67777778e+01 7.74444444e+01\n",
      "  3.21111111e+01 2.31111111e+01 1.25555556e+01 8.00000000e+00\n",
      "  1.51000000e+02 5.30000000e+01 1.00000000e+00 1.00000000e+00\n",
      "  1.00000000e+00 0.00000000e+00 0.00000000e+00 0.00000000e+00]\n",
      " [1.27380000e+04 3.18192000e+05 2.04545455e+01 5.26363636e+01\n",
      "  8.81818182e+00 1.96363636e+01 2.13636364e+01 8.37272727e+01\n",
      "  2.30909091e+01 1.90909091e+01 6.00000000e+00 4.45454545e+00\n",
      "  1.69000000e+02 4.40000000e+01 1.00000000e+00 3.00000000e+00\n",
      "  0.00000000e+00 1.00000000e+00 0.00000000e+00 0.00000000e+00]\n",
      " [3.41190000e+04 4.18192000e+05 1.02222222e+01 7.35555556e+01\n",
      "  2.35555556e+01 4.57777778e+01 1.74444444e+01 8.20000000e+01\n",
      "  3.48888889e+01 1.25555556e+01 7.11111111e+00 1.90000000e+01\n",
      "  1.68000000e+02 6.30000000e+01 1.00000000e+00 0.00000000e+00\n",
      "  1.00000000e+00 2.00000000e+00 0.00000000e+00 0.00000000e+00]\n",
      " [5.12485000e+04 5.18192000e+05 3.00000000e+00 8.65000000e+01\n",
      "  0.00000000e+00 0.00000000e+00 7.60000000e+01 0.00000000e+00\n",
      "  2.25000000e+01 4.70000000e+01 7.00000000e+00 1.00000000e+01\n",
      "  1.72500000e+02 6.90000000e+01 0.00000000e+00 1.00000000e+00\n",
      "  0.00000000e+00 1.00000000e+00 0.00000000e+00 0.00000000e+00]\n",
      " [4.30810000e+04 4.18192000e+05 1.02222222e+01 7.91111111e+01\n",
      "  2.75555556e+01 5.40000000e+01 2.72222222e+01 7.13333333e+01\n",
      "  4.06666667e+01 1.44444444e+01 1.26666667e+01 1.13333333e+01\n",
      "  1.55000000e+02 7.60000000e+01 0.00000000e+00 1.00000000e+00\n",
      "  1.00000000e+00 2.00000000e+00 0.00000000e+00 0.00000000e+00]\n",
      " [4.54750000e+03 4.18192000e+05 7.75000000e+00 7.16250000e+01\n",
      "  2.88750000e+01 5.11250000e+01 1.91250000e+01 7.37500000e+01\n",
      "  4.61250000e+01 7.37500000e+00 7.50000000e+00 1.06250000e+01\n",
      "  1.62000000e+02 4.50000000e+01 0.00000000e+00 2.00000000e+00\n",
      "  0.00000000e+00 0.00000000e+00 0.00000000e+00 0.00000000e+00]]\n",
      "*******************************************************\n",
      "Silhouette score for 7 cluster = 0.9600388811664157\n",
      "********************************************************\n"
     ]
    },
    {
     "data": {
      "image/png": "[encoded data removed]",
      "text/plain": [
       "<Figure size 432x288 with 1 Axes>"
      ]
     },
     "metadata": {
      "needs_background": "light"
     },
     "output_type": "display_data"
    },
    {
     "name": "stdout",
     "output_type": "stream",
     "text": [
      "*******************************************************\n",
      "Centers [[1.31210000e+04 4.18192000e+05 1.02222222e+01 7.57777778e+01\n",
      "  2.32222222e+01 4.40000000e+01 2.67777778e+01 7.74444444e+01\n",
      "  3.21111111e+01 2.31111111e+01 1.25555556e+01 8.00000000e+00\n",
      "  1.51000000e+02 5.30000000e+01 1.00000000e+00 1.00000000e+00\n",
      "  1.00000000e+00 0.00000000e+00 0.00000000e+00 0.00000000e+00]\n",
      " [1.27380000e+04 3.18192000e+05 2.04545455e+01 5.26363636e+01\n",
      "  8.81818182e+00 1.96363636e+01 2.13636364e+01 8.37272727e+01\n",
      "  2.30909091e+01 1.90909091e+01 6.00000000e+00 4.45454545e+00\n",
      "  1.69000000e+02 4.40000000e+01 1.00000000e+00 3.00000000e+00\n",
      "  0.00000000e+00 1.00000000e+00 0.00000000e+00 0.00000000e+00]\n",
      " [1.23232000e+04 5.18192000e+05 3.00000000e+00 7.70000000e+01\n",
      "  0.00000000e+00 0.00000000e+00 6.80000000e+01 0.00000000e+00\n",
      "  4.20000000e+01 1.54000000e+01 7.20000000e+00 1.24000000e+01\n",
      "  1.66800000e+02 6.92000000e+01 6.00000000e-01 1.20000000e+00\n",
      "  4.00000000e-01 6.00000000e-01 0.00000000e+00 0.00000000e+00]\n",
      " [3.41190000e+04 4.18192000e+05 1.02222222e+01 7.35555556e+01\n",
      "  2.35555556e+01 4.57777778e+01 1.74444444e+01 8.20000000e+01\n",
      "  3.48888889e+01 1.25555556e+01 7.11111111e+00 1.90000000e+01\n",
      "  1.68000000e+02 6.30000000e+01 1.00000000e+00 0.00000000e+00\n",
      "  1.00000000e+00 2.00000000e+00 0.00000000e+00 0.00000000e+00]\n",
      " [4.30810000e+04 4.18192000e+05 1.02222222e+01 7.91111111e+01\n",
      "  2.75555556e+01 5.40000000e+01 2.72222222e+01 7.13333333e+01\n",
      "  4.06666667e+01 1.44444444e+01 1.26666667e+01 1.13333333e+01\n",
      "  1.55000000e+02 7.60000000e+01 0.00000000e+00 1.00000000e+00\n",
      "  1.00000000e+00 2.00000000e+00 0.00000000e+00 0.00000000e+00]\n",
      " [5.12485000e+04 5.18192000e+05 3.00000000e+00 8.65000000e+01\n",
      "  0.00000000e+00 0.00000000e+00 7.60000000e+01 0.00000000e+00\n",
      "  2.25000000e+01 4.70000000e+01 7.00000000e+00 1.00000000e+01\n",
      "  1.72500000e+02 6.90000000e+01 0.00000000e+00 1.00000000e+00\n",
      "  0.00000000e+00 1.00000000e+00 0.00000000e+00 0.00000000e+00]\n",
      " [1.40433333e+03 5.18192000e+05 3.00000000e+00 8.23333333e+01\n",
      "  0.00000000e+00 0.00000000e+00 6.63333333e+01 0.00000000e+00\n",
      "  4.66666667e+01 1.40000000e+01 9.00000000e+00 1.26666667e+01\n",
      "  1.63666667e+02 7.90000000e+01 1.00000000e+00 1.66666667e+00\n",
      "  3.33333333e-01 1.33333333e+00 0.00000000e+00 0.00000000e+00]\n",
      " [4.54750000e+03 4.18192000e+05 7.75000000e+00 7.16250000e+01\n",
      "  2.88750000e+01 5.11250000e+01 1.91250000e+01 7.37500000e+01\n",
      "  4.61250000e+01 7.37500000e+00 7.50000000e+00 1.06250000e+01\n",
      "  1.62000000e+02 4.50000000e+01 0.00000000e+00 2.00000000e+00\n",
      "  0.00000000e+00 0.00000000e+00 0.00000000e+00 0.00000000e+00]]\n",
      "*******************************************************\n",
      "Silhouette score for 8 cluster = 0.9437159884049204\n",
      "********************************************************\n"
     ]
    },
    {
     "ename": "IndexError",
     "evalue": "list index out of range",
     "output_type": "error",
     "traceback": [
      "\u001b[1;31m---------------------------------------------------------------------------\u001b[0m",
      "\u001b[1;31mIndexError\u001b[0m                                Traceback (most recent call last)",
      "\u001b[1;32m<ipython-input-117-4767465ae080>\u001b[0m in \u001b[0;36m<module>\u001b[1;34m\u001b[0m\n\u001b[0;32m     12\u001b[0m     \u001b[0mkmeans_df_array\u001b[0m \u001b[1;33m=\u001b[0m \u001b[0mnp\u001b[0m\u001b[1;33m.\u001b[0m\u001b[0marray\u001b[0m\u001b[1;33m(\u001b[0m\u001b[0mkmeans_df\u001b[0m\u001b[1;33m)\u001b[0m\u001b[1;33m\u001b[0m\u001b[1;33m\u001b[0m\u001b[0m\n\u001b[0;32m     13\u001b[0m     \u001b[1;32mfor\u001b[0m \u001b[0mj\u001b[0m \u001b[1;32min\u001b[0m \u001b[0mrange\u001b[0m\u001b[1;33m(\u001b[0m\u001b[0mlen\u001b[0m\u001b[1;33m(\u001b[0m\u001b[0mkmeans\u001b[0m\u001b[1;33m.\u001b[0m\u001b[0mcluster_centers_\u001b[0m\u001b[1;33m)\u001b[0m\u001b[1;33m)\u001b[0m\u001b[1;33m:\u001b[0m\u001b[1;33m\u001b[0m\u001b[1;33m\u001b[0m\u001b[0m\n\u001b[1;32m---> 14\u001b[1;33m         \u001b[0mplt\u001b[0m\u001b[1;33m.\u001b[0m\u001b[0mscatter\u001b[0m\u001b[1;33m(\u001b[0m\u001b[0mkmeans_df_array\u001b[0m\u001b[1;33m[\u001b[0m\u001b[0my_km\u001b[0m\u001b[1;33m==\u001b[0m\u001b[0mj\u001b[0m\u001b[1;33m,\u001b[0m\u001b[1;36m0\u001b[0m\u001b[1;33m]\u001b[0m\u001b[1;33m,\u001b[0m\u001b[0mkmeans_df_array\u001b[0m\u001b[1;33m[\u001b[0m\u001b[0my_km\u001b[0m\u001b[1;33m==\u001b[0m\u001b[0mj\u001b[0m\u001b[1;33m,\u001b[0m\u001b[1;36m1\u001b[0m\u001b[1;33m]\u001b[0m\u001b[1;33m,\u001b[0m\u001b[0mmarker\u001b[0m\u001b[1;33m=\u001b[0m\u001b[1;34m'o'\u001b[0m\u001b[1;33m,\u001b[0m\u001b[0mc\u001b[0m\u001b[1;33m=\u001b[0m\u001b[0mc\u001b[0m\u001b[1;33m[\u001b[0m\u001b[0mj\u001b[0m\u001b[1;33m]\u001b[0m\u001b[1;33m)\u001b[0m\u001b[1;33m\u001b[0m\u001b[1;33m\u001b[0m\u001b[0m\n\u001b[0m\u001b[0;32m     15\u001b[0m     \u001b[0mplt\u001b[0m\u001b[1;33m.\u001b[0m\u001b[0mtitle\u001b[0m\u001b[1;33m(\u001b[0m\u001b[1;34m'KMeans Clustering with {} clusters'\u001b[0m\u001b[1;33m.\u001b[0m\u001b[0mformat\u001b[0m\u001b[1;33m(\u001b[0m\u001b[0mi\u001b[0m\u001b[1;33m)\u001b[0m\u001b[1;33m)\u001b[0m\u001b[1;33m\u001b[0m\u001b[1;33m\u001b[0m\u001b[0m\n\u001b[0;32m     16\u001b[0m     \u001b[0mplt\u001b[0m\u001b[1;33m.\u001b[0m\u001b[0mshow\u001b[0m\u001b[1;33m(\u001b[0m\u001b[1;33m)\u001b[0m\u001b[1;33m\u001b[0m\u001b[1;33m\u001b[0m\u001b[0m\n",
      "\u001b[1;31mIndexError\u001b[0m: list index out of range"
     ]
    },
    {
     "data": {
      "image/png": "[encoded data removed]",
      "text/plain": [
       "<Figure size 432x288 with 1 Axes>"
      ]
     },
     "metadata": {
      "needs_background": "light"
     },
     "output_type": "display_data"
    }
   ],
   "source": [
    "\n",
    "from sklearn.metrics import silhouette_score\n",
    "for i in range(2,Gradelen):\n",
    "    kmeans = KMeans(n_clusters=i)\n",
    "    y_km = kmeans.fit_predict(kmeans_df)\n",
    "    print('*******************************************************')\n",
    "    print(\"Centers\",kmeans.cluster_centers_)\n",
    "    print('*******************************************************')\n",
    "    distortion.append(kmeans.inertia_)\n",
    "    \n",
    "    print('Silhouette score for {} cluster ='.format(i),silhouette_score(kmeans_df,y_km))\n",
    "    print('********************************************************')\n",
    "    kmeans_df_array = np.array(kmeans_df)\n",
    "    for j in range(len(kmeans.cluster_centers_)):\n",
    "        plt.scatter(kmeans_df_array[y_km==j,0],kmeans_df_array[y_km==j,1],marker='o',c=c[j])\n",
    "    plt.title('KMeans Clustering with {} clusters'.format(i))\n",
    "    plt.show()\n",
    "print('Distortion-->',distortion)\n",
    "\n",
    "a=np.arange(2,Gradelen)\n",
    "plt.plot(a,distortion)\n",
    "plt.grid()\n",
    "plt.show()"
   ]
  },
  {
   "cell_type": "code",
   "execution_count": 127,
   "metadata": {},
   "outputs": [
    {
     "data": {
      "image/png": "[encoded data removed]",
      "text/plain": [
       "<Figure size 432x288 with 1 Axes>"
      ]
     },
     "metadata": {
      "needs_background": "light"
     },
     "output_type": "display_data"
    }
   ],
   "source": [
    "from sklearn.impute import SimpleImputer\n",
    "#using the value that we get in elbow method \n",
    "\n",
    "#this part was left \n",
    "#so uploading in github directly(sorry for this ma'am)\n",
    "x=df.loc[:,['CA_100','MTT_50']]\n",
    "x=SimpleImputer(missing_values=np.nan, strategy='mean',verbose=0).fit_transform(x)\n",
    "#let do for 3 clusters that contain grade O, A and B.\n",
    "kmm=KMeans(n_clusters=3, init='k-means++',max_iter=300,n_init=10,random_state=0)\n",
    "y_kmm=kmm.fit_predict(X)\n",
    " \n",
    "plt.scatter(x[y_kmm==0,0], x[y_kmm==0,1],s=100,c='skyblue', label='Grade O')\n",
    "plt.scatter(x[y_kmm==1,0],x[y_kmm==1,1],s=100,c='yellow', label='Grade A')\n",
    "plt.scatter(x[y_kmm==2,0],x[y_kmm==2,1],s=100,c='green', label='Grade B')\n",
    "\n",
    "plt.scatter(kmm.cluster_centers_[:,0], kmm.cluster_centers_[:,1], s=300,c='red', label='Centroids')\n",
    "plt.title('Grade of the students')\n",
    "plt.xlabel('CA marks')\n",
    "plt.ylabel('Mid term marks')\n",
    "plt.legend()\n",
    "plt.show()\n"
   ]
  },
  {
   "cell_type": "markdown",
   "metadata": {},
   "source": [
    "## Applying Agglomerative Clustering"
   ]
  },
  {
   "cell_type": "code",
   "execution_count": 490,
   "metadata": {},
   "outputs": [
    {
     "data": {
      "image/png": "[encoded data removed]",
      "text/plain": [
       "<Figure size 432x288 with 1 Axes>"
      ]
     },
     "metadata": {
      "needs_background": "light"
     },
     "output_type": "display_data"
    },
    {
     "data": {
      "image/png": "[encoded data removed]",
      "text/plain": [
       "<Figure size 432x288 with 1 Axes>"
      ]
     },
     "metadata": {
      "needs_background": "light"
     },
     "output_type": "display_data"
    },
    {
     "data": {
      "image/png": "[encoded data removed]",
      "text/plain": [
       "<Figure size 432x288 with 1 Axes>"
      ]
     },
     "metadata": {
      "needs_background": "light"
     },
     "output_type": "display_data"
    },
    {
     "data": {
      "image/png": "[encoded data removed]",
      "text/plain": [
       "<Figure size 432x288 with 1 Axes>"
      ]
     },
     "metadata": {
      "needs_background": "light"
     },
     "output_type": "display_data"
    },
    {
     "data": {
      "image/png": "[encoded data removed]",
      "text/plain": [
       "<Figure size 432x288 with 1 Axes>"
      ]
     },
     "metadata": {
      "needs_background": "light"
     },
     "output_type": "display_data"
    },
    {
     "data": {
      "image/png": "[encoded data removed]",
      "text/plain": [
       "<Figure size 432x288 with 1 Axes>"
      ]
     },
     "metadata": {
      "needs_background": "light"
     },
     "output_type": "display_data"
    },
    {
     "data": {
      "image/png": "[encoded data removed]",
      "text/plain": [
       "<Figure size 432x288 with 1 Axes>"
      ]
     },
     "metadata": {
      "needs_background": "light"
     },
     "output_type": "display_data"
    }
   ],
   "source": [
    "#Agglomerative Clustering technique\n",
    "#importing the agglomerative clustering\n",
    "from sklearn.cluster import  AgglomerativeClustering\n",
    "ac_df = df.copy()\n",
    "ac_df = df.drop(['Regd No','Grade'],axis=1)\n",
    "#looping over the gradesLen\n",
    "for i in range(2,Gradelen):\n",
    "    ac = AgglomerativeClustering(n_clusters=i,affinity='euclidean', linkage='complete')\n",
    "    labels = ac.fit_predict(ac_df) \n",
    "    for j in range(i):\n",
    "        plt.scatter(ac_df.iloc[labels == j,0], ac_df.iloc[labels == j,1])\n",
    "        plt.title('Agglomerative Clustering with {} clusters'.format(i))\n",
    "        plt.plot()\n",
    "    plt.show()"
   ]
  },
  {
   "cell_type": "code",
   "execution_count": null,
   "metadata": {},
   "outputs": [],
   "source": []
  },
  {
   "cell_type": "markdown",
   "metadata": {},
   "source": [
    "## DBSCAN CLUSTERING \n",
    "### Density-Based Spatial Clustering of Applications with Noise\n"
   ]
  },
  {
   "cell_type": "code",
   "execution_count": 416,
   "metadata": {},
   "outputs": [],
   "source": [
    "from sklearn.cluster import  DBSCAN\n",
    "db_df = df.copy()\n",
    "db_df = df.drop(['Regd No','Grade'],axis=1)\n",
    "for i in range(2,4):\n",
    "    db = DBSCAN(eps = 0.25)\n",
    "    labels = db.fit_predict(db_df) \n",
    "    for j in range(i):\n",
    "        plt.scatter(db_df.iloc[labels == j,0], db_df.iloc[labels == j,1])\n",
    "        plt.title('DBSCAN Clustering with {} clusters'.format(i))\n",
    "        plt.plot()\n",
    "    plt.show()"
   ]
  },
  {
   "cell_type": "code",
   "execution_count": null,
   "metadata": {},
   "outputs": [],
   "source": []
  },
  {
   "cell_type": "code",
   "execution_count": null,
   "metadata": {},
   "outputs": [],
   "source": []
  },
  {
   "cell_type": "code",
   "execution_count": null,
   "metadata": {},
   "outputs": [],
   "source": []
  },
  {
   "cell_type": "code",
   "execution_count": 242,
   "metadata": {},
   "outputs": [],
   "source": [
    "#from sklearn.cluster import KMeans\n",
    "#km = KMeans(n_clusters=5)\n",
    "#cluster = km.fit(reduced_data)\n",
    "#plt.scatter(reduced_data[:, 0], reduced_data[:, 1], label='Datapoints')\n",
    "#plt.scatter(X.cluster_centers_[:, 0], X.cluster_centers_[:, 1], label='Clusters')\n",
    "#plt.title(\"Sklearn version of KMeans\")\n",
    "#plt.legend()\n",
    "#plt.show()"
   ]
  },
  {
   "cell_type": "code",
   "execution_count": null,
   "metadata": {},
   "outputs": [],
   "source": []
  },
  {
   "cell_type": "markdown",
   "metadata": {},
   "source": [
    "\n"
   ]
  },
  {
   "cell_type": "code",
   "execution_count": 382,
   "metadata": {},
   "outputs": [
    {
     "name": "stdout",
     "output_type": "stream",
     "text": [
      "636189064403426.5\n",
      "71285885803293.75\n",
      "37931288152989.64\n",
      "10776431899720.572\n",
      "3487059228653.3535\n",
      "1980830907869.349\n",
      "1092612021225.2806\n",
      "662569751172.3367\n",
      "373335450968.4034\n"
     ]
    },
    {
     "data": {
      "image/png": "[encoded data removed]",
      "text/plain": [
       "<Figure size 432x288 with 1 Axes>"
      ]
     },
     "metadata": {
      "needs_background": "light"
     },
     "output_type": "display_data"
    }
   ],
   "source": [
    "#from sklearn.cluster import KMeans\n",
    "#import numpy as np\n",
    "\n",
    "#distortion=[]\n",
    "\n",
    "#for i in range(1,10,1):\n",
    " #   km=KMeans(n_clusters=i)\n",
    "  #  y_km=km.fit_predict(df)\n",
    " #   distortion.append(km.inertia_)\n",
    " #   print(km.inertia_)\n",
    "\n",
    "#a=np.arange(1,10,1)\n",
    "#plt.plot(a,distortion)\n",
    "#plt.grid()\n",
    "#plt.title('Elbow Method')\n",
    "#plt.show()"
   ]
  },
  {
   "cell_type": "code",
   "execution_count": 224,
   "metadata": {},
   "outputs": [],
   "source": [
    "#from sklearn.cluster import KMeans\n",
    "#k=KMeans(n_clusters=4,tol=0.0001)\n",
    "\n",
    "\n"
   ]
  },
  {
   "cell_type": "code",
   "execution_count": 226,
   "metadata": {},
   "outputs": [],
   "source": [
    "#k.fit(X)\n",
    "#clusters = k.labels_.tolist()\n",
    "#print(clusters)"
   ]
  },
  {
   "cell_type": "code",
   "execution_count": null,
   "metadata": {},
   "outputs": [],
   "source": []
  }
 ],
 "metadata": {
  "kernelspec": {
   "display_name": "Python 3",
   "language": "python",
   "name": "python3"
  },
  "language_info": {
   "codemirror_mode": {
    "name": "ipython",
    "version": 3
   },
   "file_extension": ".py",
   "mimetype": "text/x-python",
   "name": "python",
   "nbconvert_exporter": "python",
   "pygments_lexer": "ipython3",
   "version": "3.7.3"
  }
 },
 "nbformat": 4,
 "nbformat_minor": 2
}
